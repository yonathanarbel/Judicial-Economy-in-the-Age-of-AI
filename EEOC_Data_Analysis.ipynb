{
 "cells": [
  {
   "cell_type": "code",
   "execution_count": 10,
   "metadata": {},
   "outputs": [
    {
     "name": "stdout",
     "output_type": "stream",
     "text": [
      "Means from 2009 to Q2 2017:\n",
      "Year                           2013.000000\n",
      "Receipts                      88675.333333\n",
      "Total Resolutions             93216.611111\n",
      "Settlements                    8088.611111\n",
      "Withdrawals with Benefits      5064.888889\n",
      "Administrative Closures        5064.888889\n",
      "No Reasonable Cause           61360.055556\n",
      "Reasonable Cause               3497.944444\n",
      "Successful Conciliations       1262.777778\n",
      "Unsuccessful Conciliations     2235.166667\n",
      "Merit Resolution              16651.444444\n",
      "dtype: float64\n",
      "\n",
      "Percentages from 2009 to Q2 2017:\n",
      "Year                            2.159486\n",
      "Receipts                       95.128253\n",
      "Total Resolutions             100.000000\n",
      "Settlements                     8.677221\n",
      "Withdrawals with Benefits       5.433462\n",
      "Administrative Closures         5.433462\n",
      "No Reasonable Cause            65.825237\n",
      "Reasonable Cause                3.752490\n",
      "Successful Conciliations        1.354670\n",
      "Unsuccessful Conciliations      2.397820\n",
      "Merit Resolution               17.863173\n",
      "dtype: float64\n"
     ]
    }
   ],
   "source": [
    "import pandas as pd\n",
    "\n",
    "file_path = 'Table_E1c.csv'\n",
    "data = pd.read_csv(file_path, header=None, encoding='latin1')\n",
    "\n",
    "years = [int(year.split()[1]) for year in data.iloc[2, 1:].values]\n",
    "receipts = data.iloc[4, 1:].str.replace(',', '').astype(float)\n",
    "total_resolutions = data.iloc[5, 1:].str.replace(',', '').astype(float)\n",
    "settlements = data.iloc[7, 1:].str.replace(',', '').astype(float)\n",
    "withdrawals_with_benefits = data.iloc[10, 1:].str.replace(',', '').astype(float)\n",
    "administrative_closures = data.iloc[10, 1:].str.replace(',', '').astype(float)\n",
    "no_reasonable_cause = data.iloc[16, 1:].str.replace(',', '').astype(float)\n",
    "reasonable_cause = data.iloc[19, 1:].str.replace(',', '').astype(float)\n",
    "successful_conciliations = data.iloc[22, 1:].str.replace(',', '').astype(float)\n",
    "unsuccessful_conciliations = data.iloc[26, 1:].str.replace(',', '').astype(float)\n",
    "merit_resolution = data.iloc[29, 1:].str.replace(',', '').astype(float)\n",
    "\n",
    "df = pd.DataFrame({\n",
    "    'Year': years,\n",
    "    'Receipts': receipts,\n",
    "    'Total Resolutions': total_resolutions,\n",
    "    'Settlements': settlements,\n",
    "    'Withdrawals with Benefits': withdrawals_with_benefits,\n",
    "    'Administrative Closures': administrative_closures,\n",
    "    'No Reasonable Cause': no_reasonable_cause,\n",
    "    'Reasonable Cause': reasonable_cause,\n",
    "    'Successful Conciliations': successful_conciliations,\n",
    "    'Unsuccessful Conciliations': unsuccessful_conciliations,\n",
    "    'Merit Resolution': merit_resolution\n",
    "})\n",
    "\n",
    "df_2009_2017 = df[(df['Year'] >= 2009) & (df['Year'] <= 2017)].copy()\n",
    "df_2009_2017.loc[df_2009_2017['Year'] == 2017, df.columns[1:]] /= 2\n",
    "\n",
    "means = df_2009_2017.mean().round(2)\n",
    "totals = df_2009_2017.sum()\n",
    "percentages = (totals / totals['Total Resolutions'] * 100).round(2)\n",
    "\n",
    "def print_table(title, data):\n",
    "    print(f\"\\n{title}\")\n",
    "    print(\"-\" * (len(title) + 2))\n",
    "    for key, value in data.items():\n",
    "        print(f\"{key}: {value:.2f}\")\n",
    "\n",
    "print_table(\"Means from 2009 to Q2 2017\", means)\n",
    "print_table(\"Percentages from 2009 to Q2 2017\", percentages)\n"
   ]
  },
  {
   "cell_type": "markdown",
   "metadata": {},
   "source": [
    "Data source:\n",
    "https://www.eeoc.gov/data/enforcement-and-litigation-statistics-0"
   ]
  },
  {
   "cell_type": "markdown",
   "metadata": {},
   "source": [
    "Based on cases filed between January 1, 2009 through June 30, 2017, discrimination lawsuits are by far the most common (87% of cases), followed by retaliation (66%) and harassment (35%).  However, employment cases often involve overlapping kinds of claims – discrimination and retaliation claims are combined more than half the time (54%), and the other two combinations occur in about a third of cases.  Cases with all three tags comprise just under a quarter of the cases (24%).\n",
    "\n",
    "employment_tags\n",
    "\n",
    "Number of cases tagged as Discrimination, Harassment, and/or Retaliation with overlaps (cases filed 2009 through 2017 Q2)\n",
    "\n",
    "These tags help practitioners focus in on the relevant cases, ensuring that other statistics and insights are more precise that would otherwise be possible.  \n",
    "\n",
    "https://lexmachina.com/blog/lex-machina-launches-legal-analytics-for-employment/"
   ]
  }
 ],
 "metadata": {
  "kernelspec": {
   "display_name": "simjury",
   "language": "python",
   "name": "python3"
  },
  "language_info": {
   "codemirror_mode": {
    "name": "ipython",
    "version": 3
   },
   "file_extension": ".py",
   "mimetype": "text/x-python",
   "name": "python",
   "nbconvert_exporter": "python",
   "pygments_lexer": "ipython3",
   "version": "3.9.18"
  }
 },
 "nbformat": 4,
 "nbformat_minor": 2
}
